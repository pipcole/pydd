{
 "cells": [
  {
   "cell_type": "code",
   "execution_count": 12,
   "id": "bdca1eeb",
   "metadata": {},
   "outputs": [],
   "source": [
    "#import pycbc.noise\n",
    "#import pycbc.psd\n",
    "import matplotlib.pyplot as plt\n",
    "import numpy as np\n",
    "import pydd\n",
    "from scipy.interpolate import interp1d\n",
    "from scipy.optimize import root_scalar\n",
    "from pydd.analysis import calculate_SNR, calculate_match_unnormd_fft, get_match_pads, loglikelihood_fft\n",
    "from pydd.binary import (\n",
    "    Binary,\n",
    "    Psi,\n",
    "    amp,\n",
    "    DynamicDress,\n",
    "    MSUN,\n",
    "    PC,\n",
    "    Phi_to_c,\n",
    "    _Phi_to_c_indef,\n",
    "    VacuumBinary,\n",
    "    convert,\n",
    "    get_M_chirp,\n",
    "    get_rho_s,\n",
    "    get_f_isco,\n",
    "    get_rho_6,\n",
    "    get_f_range,\n",
    "    get_m_1,\n",
    "    make_dynamic_dress,\n",
    "    make_vacuum_binary,\n",
    "    t_to_c,\n",
    "    YR,\n",
    "    amp,\n",
    "    d2Phi_dt2,\n",
    "    phasePN,\n",
    "    G,\n",
    "    C,\n",
    "    get_a_v\n",
    ")\n",
    "\n",
    "import pickle\n",
    "from typing import Tuple\n",
    "\n",
    "import dynesty\n",
    "from dynesty import plotting as dyplot\n",
    "\n",
    "from tqdm.auto import trange\n",
    "import latex\n",
    "\n",
    "from scipy.optimize import minimize_scalar\n"
   ]
  },
  {
   "cell_type": "code",
   "execution_count": 13,
   "id": "a43644ea",
   "metadata": {},
   "outputs": [],
   "source": [
    "# Set detector\n",
    "detector = \"et\"\n",
    "\n",
    "# Set noise and other globals based on detector\n",
    "if detector == \"et\":\n",
    "    from pydd.noise import S_n_et as S_n, f_range_et as f_range_n  # ET\n",
    "\n",
    "    T_OBS = 1 * YR / 52\n",
    "    SNR_THRESH = 8.0\n",
    "    TITLE = \"Einstein Telescope\"\n",
    "    \n",
    "elif detector == \"ce\":\n",
    "    from pydd.noise import S_n_ce as S_n, f_range_ce as f_range_n  # CE\n",
    "\n",
    "    T_OBS = 1 * YR\n",
    "    SNR_THRESH = 12.0\n",
    "    TITLE = \"Cosmic Explorer\"\n",
    "elif detector == \"aLIGO\":\n",
    "    from pydd.noise import S_n_aLIGO as S_n, f_range_aLIGO as f_range_n  # aLIGO\n",
    "\n",
    "    T_OBS = 1 * YR\n",
    "    SNR_THRESH = 12.0\n",
    "    TITLE = \"aLIGO\"\n",
    "elif detector == \"LISA\":\n",
    "    from pydd.noise import S_n_LISA as S_n, f_range_LISA as f_range_n  # LISA\n",
    "\n",
    "    T_OBS = 1 * YR #/12 / 4.34524 / 7\n",
    "    SNR_THRESH = 15.0\n",
    "    TITLE = \"LISA\""
   ]
  },
  {
   "cell_type": "code",
   "execution_count": 15,
   "id": "56f8029e",
   "metadata": {},
   "outputs": [],
   "source": [
    "def get_signal_system() -> Tuple[DynamicDress, Tuple[float, float]]:\n",
    "    \"\"\"\n",
    "    Creates a dark dress with correct SNR for given detector.\n",
    "    \n",
    "    Returns:\n",
    "        The dark dress and frequency range corresponding to an observing time\n",
    "        of ``T_OBS`` before coalescence.\n",
    "    \"\"\"\n",
    "    M_1 = np.array(1 * MSUN)\n",
    "    M_2 = np.array(1e-3 * MSUN)\n",
    "    M_CHIRP = get_M_chirp(M_1, M_2)\n",
    "    Q = M_2 / M_1\n",
    "    GAMMA_S = 9 / 4\n",
    "    RHO_6 = 1.396e13 * (M_1/MSUN)**(3/4) * MSUN/PC**3\n",
    "    TT_C = np.array(0.0)\n",
    "    F_C = get_f_isco(M_1)\n",
    "    PHI_C = np.array(0.0)\n",
    "    _DD_D = DynamicDress(\n",
    "        GAMMA_S,\n",
    "        RHO_6,\n",
    "        get_M_chirp(M_1, M_2),\n",
    "        M_2 / M_1,\n",
    "        PHI_C,\n",
    "        tT_c=TT_C,\n",
    "        dL=np.array(100e6 * PC),\n",
    "        f_c=get_f_isco(M_1),\n",
    "    )\n",
    "\n",
    "    # Frequency range and grids\n",
    "    F_RANGE_D = get_f_range(_DD_D, T_OBS,bracket = (1,10))\n",
    "    print(F_RANGE_D)\n",
    "    FS = np.linspace(\n",
    "        max(F_RANGE_D[0], f_range_n[0]), min(F_RANGE_D[1], f_range_n[1]), 10_000\n",
    "    )\n",
    "\n",
    "    # Get dL such that SNR = threshold\n",
    "    _fn = lambda dL: calculate_SNR(\n",
    "            DynamicDress(\n",
    "                _DD_D.gamma_s,\n",
    "                _DD_D.rho_6,\n",
    "                _DD_D.M_chirp,\n",
    "                _DD_D.q,\n",
    "                _DD_D.Phi_c,\n",
    "                _DD_D.tT_c,\n",
    "                dL,\n",
    "                _DD_D.f_c,\n",
    "            ),\n",
    "            FS,\n",
    "            S_n,\n",
    "        )\n",
    "    \n",
    "    print(_fn(100000e6))\n",
    "    res = root_scalar(\n",
    "        lambda dL: (_fn(dL) - SNR_THRESH), bracket=(0.1e6 * PC, 100000e6 * PC)\n",
    "    )\n",
    "    assert res.converged\n",
    "    DL = res.root\n",
    "\n",
    "    # Signal system\n",
    "    DD_D = DynamicDress(\n",
    "        _DD_D.gamma_s,\n",
    "        _DD_D.rho_6,\n",
    "        _DD_D.M_chirp,\n",
    "        _DD_D.q,\n",
    "        _DD_D.Phi_c,\n",
    "        _DD_D.tT_c,\n",
    "        DL,\n",
    "        _DD_D.f_c,\n",
    "    )\n",
    "\n",
    "    return DD_D, F_RANGE_D"
   ]
  },
  {
   "cell_type": "code",
   "execution_count": 16,
   "id": "96074c06",
   "metadata": {
    "scrolled": true
   },
   "outputs": [
    {
     "name": "stdout",
     "output_type": "stream",
     "text": [
      "(13.660598117287558, 4397.009834378759)\n",
      "287996081394006.06\n"
     ]
    }
   ],
   "source": [
    "DD_D, F_RANGE_D = get_signal_system()\n",
    "\n",
    "# FS = jnp.linspace(*F_RANGE_D, 10_000)  # coarse grid\n",
    "FS = np.linspace(*F_RANGE_D, 100_000)  # finer grid \n",
    "PAD_LOW, PAD_HIGH = get_match_pads(FS)  # padding for likelihood calculation"
   ]
  },
  {
   "cell_type": "code",
   "execution_count": 21,
   "id": "2dcc36b7",
   "metadata": {},
   "outputs": [],
   "source": [
    "def waveform(params_h: Binary, fs, S_n = S_n):\n",
    "    wf_h = amp(fs, params_h) * np.exp(1j * Psi(fs, params_h))\n",
    "    return wf_h"
   ]
  },
  {
   "cell_type": "code",
   "execution_count": 25,
   "id": "82139403",
   "metadata": {},
   "outputs": [
    {
     "data": {
      "image/png": "[encoded data removed]",
      "text/plain": [
       "<Figure size 432x288 with 1 Axes>"
      ]
     },
     "metadata": {
      "needs_background": "light"
     },
     "output_type": "display_data"
    }
   ],
   "source": [
    "plt.semilogx(FS, waveform(DD_D,FS,S_n))\n",
    "plt.xlabel('f [Hz]')\n",
    "plt.ylabel('h(f)')\n",
    "plt.show()"
   ]
  }
 ],
 "metadata": {
  "kernelspec": {
   "display_name": "Python 3 (ipykernel)",
   "language": "python",
   "name": "python3"
  },
  "language_info": {
   "codemirror_mode": {
    "name": "ipython",
    "version": 3
   },
   "file_extension": ".py",
   "mimetype": "text/x-python",
   "name": "python",
   "nbconvert_exporter": "python",
   "pygments_lexer": "ipython3",
   "version": "3.10.4"
  }
 },
 "nbformat": 4,
 "nbformat_minor": 5
}
